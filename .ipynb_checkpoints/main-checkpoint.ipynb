{
 "cells": [
  {
   "cell_type": "code",
   "execution_count": 12,
   "metadata": {},
   "outputs": [],
   "source": [
    "# importing needed libraries.\n",
    "import pandas as pd\n",
    "import sklearn  as sk\n",
    "import numpy as np"
   ]
  },
  {
   "cell_type": "code",
   "execution_count": 13,
   "metadata": {},
   "outputs": [],
   "source": [
    "#Loading data to datafram 'df' for data preprocessing.\n",
    "data = pd.read_csv('/movie_recommendation/archive/movies.csv')"
   ]
  },
  {
   "cell_type": "code",
   "execution_count": 14,
   "metadata": {},
   "outputs": [
    {
     "name": "stdout",
     "output_type": "stream",
     "text": [
      "Data shape: (722938, 20)\n",
      "<class 'pandas.core.frame.DataFrame'>\n",
      "RangeIndex: 722938 entries, 0 to 722937\n",
      "Data columns (total 20 columns):\n",
      " #   Column                Non-Null Count   Dtype  \n",
      "---  ------                --------------   -----  \n",
      " 0   id                    722938 non-null  int64  \n",
      " 1   title                 722934 non-null  object \n",
      " 2   genres                511966 non-null  object \n",
      " 3   original_language     722938 non-null  object \n",
      " 4   overview              604283 non-null  object \n",
      " 5   popularity            722938 non-null  float64\n",
      " 6   production_companies  337164 non-null  object \n",
      " 7   release_date          670278 non-null  object \n",
      " 8   budget                722938 non-null  float64\n",
      " 9   revenue               722938 non-null  float64\n",
      " 10  runtime               688450 non-null  float64\n",
      " 11  status                722938 non-null  object \n",
      " 12  tagline               108065 non-null  object \n",
      " 13  vote_average          722938 non-null  float64\n",
      " 14  vote_count            722938 non-null  float64\n",
      " 15  credits               497777 non-null  object \n",
      " 16  keywords              210239 non-null  object \n",
      " 17  poster_path           537553 non-null  object \n",
      " 18  backdrop_path         222426 non-null  object \n",
      " 19  recommendations       34696 non-null   object \n",
      "dtypes: float64(6), int64(1), object(13)\n",
      "memory usage: 110.3+ MB\n",
      "None\n"
     ]
    }
   ],
   "source": [
    "# Data Preprocessing\n",
    "# Data Analysis\n",
    "\n",
    "#checks the shape of Data\n",
    "print(\"Data shape:\", data.shape)\n",
    "\n",
    "#Give column information like columns of data and respective data's dtype\n",
    "print(data.info())"
   ]
  },
  {
   "cell_type": "code",
   "execution_count": 15,
   "metadata": {},
   "outputs": [
    {
     "name": "stdout",
     "output_type": "stream",
     "text": [
      "id                           0\n",
      "title                        4\n",
      "genres                  210972\n",
      "original_language            0\n",
      "overview                118655\n",
      "popularity                   0\n",
      "production_companies    385774\n",
      "release_date             52660\n",
      "budget                       0\n",
      "revenue                      0\n",
      "runtime                  34488\n",
      "status                       0\n",
      "tagline                 614873\n",
      "vote_average                 0\n",
      "vote_count                   0\n",
      "credits                 225161\n",
      "keywords                512699\n",
      "poster_path             185385\n",
      "backdrop_path           500512\n",
      "recommendations         688242\n",
      "dtype: int64\n",
      "0\n"
     ]
    }
   ],
   "source": [
    "# check null values in dataset\n",
    "print(data.isnull().sum())\n",
    "# checking duplicate values in data\n",
    "print(data.duplicated().sum())"
   ]
  },
  {
   "cell_type": "code",
   "execution_count": 16,
   "metadata": {},
   "outputs": [],
   "source": [
    "# Data Cleaning. As it has many missing values\n",
    "\n",
    "# droppin unnecessary title\n",
    "df = data.drop([\"production_companies\", \"popularity\", \"budget\", \"revenue\", \"status\", \"recommendations\", \"runtime\", \"vote_average\", \"backdrop_path\", \"tagline\"], axis=1)"
   ]
  },
  {
   "cell_type": "code",
   "execution_count": 17,
   "metadata": {},
   "outputs": [
    {
     "name": "stdout",
     "output_type": "stream",
     "text": [
      "Duplicates in title: 86982\n",
      "Duplicate title with same releasing date: 2267\n"
     ]
    },
    {
     "data": {
      "text/plain": [
       "index                     0\n",
       "id                        0\n",
       "title                     2\n",
       "genres               198452\n",
       "original_language         0\n",
       "overview             110858\n",
       "release_date          49656\n",
       "vote_count                0\n",
       "credits              214140\n",
       "keywords             470608\n",
       "poster_path          175925\n",
       "dtype: int64"
      ]
     },
     "execution_count": 17,
     "metadata": {},
     "output_type": "execute_result"
    }
   ],
   "source": [
    "#dropping duplicate values\n",
    "df.drop_duplicates(inplace=True)\n",
    "\n",
    "#checking duplicates in title\n",
    "print(\"Duplicates in title:\", df.title.duplicated().sum())\n",
    "#check if duplicate titles have same release date\n",
    "print(\"Duplicate title with same releasing date:\", df[['title', 'release_date']].duplicated().sum())\n",
    "\n",
    "#Now, removing duplicate title with same relase date\n",
    "df.drop_duplicates(subset=['title', 'release_date'], inplace=True)\n",
    "\n",
    "#Removes vote_count lower than 350\n",
    "df = df[df.vote_count <= 350].reset_index()\n",
    "df.isnull().sum()\n"
   ]
  },
  {
   "cell_type": "code",
   "execution_count": 18,
   "metadata": {},
   "outputs": [],
   "source": [
    "# Replacing all null values from genre and overview with \"Nothing\"\n",
    "df.fillna(\"\", inplace=True)\n",
    "\n",
    "# Deleting movies with no genre and overview\n",
    "index = df[(df.genres == \"\") & (df.overview == \"\")].index\n",
    "df.drop(index, inplace=True)"
   ]
  },
  {
   "cell_type": "code",
   "execution_count": 19,
   "metadata": {},
   "outputs": [],
   "source": [
    "# Replacing genres, credit and keywords \"-\" with \" \"\n",
    "df.genres = df.genres.apply(lambda x: \" \".join(x.split(\"-\")))\n",
    "df.genres = df.credits.apply(lambda x: \" \".join(x.split(\"-\")))\n",
    "df.genres = df.keywords.apply(lambda x: \" \".join(x.replace(\" \", \"\").split(\"-\")[:5]))"
   ]
  },
  {
   "cell_type": "code",
   "execution_count": 20,
   "metadata": {},
   "outputs": [],
   "source": [
    "# Making tags for prediction\n",
    "df['tags'] = df.overview + \" \"+ df.genres + \" \"+ df.credits + \" \"+ df.keywords + \" \"+df.original_language"
   ]
  },
  {
   "cell_type": "code",
   "execution_count": 21,
   "metadata": {},
   "outputs": [
    {
     "name": "stderr",
     "output_type": "stream",
     "text": [
      "C:\\Users\\deven\\AppData\\Local\\Temp\\ipykernel_20024\\2516214520.py:5: SettingWithCopyWarning: \n",
      "A value is trying to be set on a copy of a slice from a DataFrame.\n",
      "Try using .loc[row_indexer,col_indexer] = value instead\n",
      "\n",
      "See the caveats in the documentation: https://pandas.pydata.org/pandas-docs/stable/user_guide/indexing.html#returning-a-view-versus-a-copy\n",
      "  new_df.tags = new_df.tags.apply(lambda x: x.lower())\n"
     ]
    }
   ],
   "source": [
    "# Making new framework with important features\n",
    "new_df = df[[\"id\", \"title\", \"tags\", \"poster_path\"]]\n",
    "\n",
    "# making all tags in lower case for better processing\n",
    "new_df.tags = new_df.tags.apply(lambda x: x.lower())"
   ]
  },
  {
   "cell_type": "code",
   "execution_count": 22,
   "metadata": {},
   "outputs": [
    {
     "data": {
      "text/plain": [
       "'while working underground to fix a water main brooklyn plumbers—and brothers—mario and luigi are transported down a mysterious pipe and wander into a magical new world. but when the brothers are separated mario embarks on an epic quest to find luigi. videogame plumber magicmushroom basedonvideogame aftercreditsstinger chris pratt-anya taylor-joy-charlie day-jack black-keegan-michael key-seth rogen-fred armisen-kevin michael richardson-sebastian maniscalco-khary payton-eric bauza-jessica dicicco-jeannie elias-juliet jelenic-rino romano-john dimaggio-scott menville-charles martinet-jason broad-carlos alazraqui-ashly burch-rachel butera-cathy cavadini-will collyer-django craig-willow geer-aaron hendry-andy hirsch-barbara lley-phil lamarr-jeremy maxwell-daniel mora-eric osmond-noreen reardon-lee shorten-cree summer-nisa ward-nora wyman video game-plumber-magic mushroom-based on video game-aftercreditsstinger-duringcreditsstinger-damsel in distress-brother brother relationship en'"
      ]
     },
     "execution_count": 22,
     "metadata": {},
     "output_type": "execute_result"
    }
   ],
   "source": [
    "new_df.tags[0]"
   ]
  },
  {
   "cell_type": "code",
   "execution_count": 23,
   "metadata": {},
   "outputs": [],
   "source": [
    "# Vectorizer\n",
    "# Stemming\n",
    "\n",
    "import nltk\n",
    "from nltk.stem.porter import PorterStemmer\n",
    "ps = PorterStemmer()"
   ]
  },
  {
   "cell_type": "code",
   "execution_count": 24,
   "metadata": {},
   "outputs": [],
   "source": [
    "# Stem function to take text and give output\n",
    "\n",
    "def stem(text):\n",
    "    y = []\n",
    "    for i in text.split():\n",
    "        y.append(ps.stem(i))\n",
    "    return \" \".join(y)"
   ]
  },
  {
   "cell_type": "code",
   "execution_count": null,
   "metadata": {},
   "outputs": [],
   "source": [
    "# applying stem funcion in tags\n",
    "new_df[\"tags\"] = new_df[\"tags\"].apply(stem)"
   ]
  },
  {
   "cell_type": "code",
   "execution_count": null,
   "metadata": {},
   "outputs": [],
   "source": [
    "# text vectorization\n",
    "# importing count vectorizer\n",
    "from sklearn.feature_extraction.text import CountVectorizer\n",
    "# setting for 5000 most repeated words, exclude stop words.\n",
    "cv = CountVectorizer(stop_words=\"english\", max_features=5000)"
   ]
  },
  {
   "cell_type": "code",
   "execution_count": null,
   "metadata": {},
   "outputs": [],
   "source": [
    "# fiting tags in count vector\n",
    "vectors = cv.fit_transform(new_df[\"tags\"]).toarray() # changes it intto array to use"
   ]
  },
  {
   "cell_type": "code",
   "execution_count": null,
   "metadata": {},
   "outputs": [],
   "source": [
    "cv.get_feature_names()[80:85]"
   ]
  },
  {
   "cell_type": "code",
   "execution_count": null,
   "metadata": {},
   "outputs": [],
   "source": []
  }
 ],
 "metadata": {
  "kernelspec": {
   "display_name": "Python 3 (ipykernel)",
   "language": "python",
   "name": "python3"
  },
  "language_info": {
   "codemirror_mode": {
    "name": "ipython",
    "version": 3
   },
   "file_extension": ".py",
   "mimetype": "text/x-python",
   "name": "python",
   "nbconvert_exporter": "python",
   "pygments_lexer": "ipython3",
   "version": "3.10.4"
  }
 },
 "nbformat": 4,
 "nbformat_minor": 2
}
